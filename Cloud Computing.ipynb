{
 "cells": [
  {
   "cell_type": "markdown",
   "id": "1b15467c",
   "metadata": {},
   "source": [
    "# Resource Allocation"
   ]
  },
  {
   "cell_type": "markdown",
   "id": "c4574546",
   "metadata": {},
   "source": [
    "## generating random number"
   ]
  },
  {
   "cell_type": "code",
   "execution_count": 1,
   "id": "1b410ee1",
   "metadata": {},
   "outputs": [],
   "source": [
    "# Taking number of task and resource as an input from user\n",
    "import random\n",
    "number_of_task = 250\n",
    "number_of_resource = 16"
   ]
  },
  {
   "cell_type": "code",
   "execution_count": 2,
   "id": "75f2031c",
   "metadata": {},
   "outputs": [],
   "source": [
    "# Taking Resource speed from user\n",
    "resource_speed = {} # A dict for storing speed of respective resource like R1,R2,..,Rn\n",
    "for i in range(1,number_of_resource+1):\n",
    "    a = 'R' + str(i)\n",
    "    resource_speed[a] = random.randint(10,1000)"
   ]
  },
  {
   "cell_type": "code",
   "execution_count": 3,
   "id": "f3fb0a34",
   "metadata": {},
   "outputs": [],
   "source": [
    "# Taking Task size from user\n",
    "task_size = {} # A dict for storing size of respective task like T1,T2,..,Tn\n",
    "for i in range(1,number_of_task+1):\n",
    "    a = 'T' + str(i)\n",
    "    task_size[a] = random.randint(100,3000)"
   ]
  },
  {
   "cell_type": "code",
   "execution_count": 4,
   "id": "b022e17c",
   "metadata": {},
   "outputs": [],
   "source": [
    "mct = {} # It is a temperarory dict which is used to find which total resource speed.\n",
    "makespan_cal = {} # for calculating makespan in the end or total load on all resource.\n",
    "compute_matrix = {}\n",
    "resource_allocation = {} # task resource mapping..\n",
    "for resource in resource_speed.keys():\n",
    "    mct[resource] = 0\n",
    "    makespan_cal[resource] = 0"
   ]
  },
  {
   "cell_type": "code",
   "execution_count": 5,
   "id": "6c750dfa",
   "metadata": {},
   "outputs": [],
   "source": [
    "def find_key(min_ct):\n",
    "    for key,value in mct.items():\n",
    "        if min_ct == value:\n",
    "            return key"
   ]
  },
  {
   "cell_type": "code",
   "execution_count": 6,
   "id": "a1c7f404",
   "metadata": {},
   "outputs": [],
   "source": [
    "# Resource allocation begins...\n",
    "\n",
    "for task,size in task_size.items(): #looping for each task_size\n",
    "    b=[]\n",
    "    for resource,speed in resource_speed.items(): #for every task Tn we are looping through every Resource Rn.\n",
    "        compute_matrix[resource] = size/speed  # this is for storing Compute timing for each task.\n",
    "    # We have come out of Resource loop....\n",
    "    ct = list(compute_matrix.values())\n",
    "    i=0\n",
    "    for resource in mct.keys(): #If bugs come change here.(we can use dict here)\n",
    "        mct[resource] = mct[resource] + ct[i]\n",
    "        i=i+1\n",
    "    # mct loop ends here...\n",
    "    b = list(mct.values())\n",
    "    min_ct = min(b) #storing minimum from mct.\n",
    "    # print(min)_ct\n",
    "    temp = find_key(min_ct) # can have [] this here.\n",
    "    for resource in makespan_cal.keys():\n",
    "        if resource == temp:\n",
    "            makespan_cal[resource] = min_ct\n",
    "    resource_allocation[task] = temp\n",
    "    \n",
    "    # reversing mct from here..\n",
    "    i=0\n",
    "    for resource in mct.keys(): #If bugs come change here.(we can use dict here)\n",
    "        if resource != temp:\n",
    "            mct[resource] = mct[resource] - ct[i]\n",
    "        i=i+1"
   ]
  },
  {
   "cell_type": "code",
   "execution_count": 7,
   "id": "acf63640",
   "metadata": {},
   "outputs": [
    {
     "data": {
      "text/plain": [
       "{'T1': 'R5',\n",
       " 'T2': 'R15',\n",
       " 'T3': 'R3',\n",
       " 'T4': 'R12',\n",
       " 'T5': 'R8',\n",
       " 'T6': 'R11',\n",
       " 'T7': 'R16',\n",
       " 'T8': 'R11',\n",
       " 'T9': 'R3',\n",
       " 'T10': 'R6',\n",
       " 'T11': 'R15',\n",
       " 'T12': 'R8',\n",
       " 'T13': 'R7',\n",
       " 'T14': 'R5',\n",
       " 'T15': 'R12',\n",
       " 'T16': 'R4',\n",
       " 'T17': 'R2',\n",
       " 'T18': 'R1',\n",
       " 'T19': 'R11',\n",
       " 'T20': 'R16',\n",
       " 'T21': 'R3',\n",
       " 'T22': 'R9',\n",
       " 'T23': 'R5',\n",
       " 'T24': 'R8',\n",
       " 'T25': 'R10',\n",
       " 'T26': 'R15',\n",
       " 'T27': 'R6',\n",
       " 'T28': 'R11',\n",
       " 'T29': 'R12',\n",
       " 'T30': 'R2',\n",
       " 'T31': 'R7',\n",
       " 'T32': 'R5',\n",
       " 'T33': 'R4',\n",
       " 'T34': 'R16',\n",
       " 'T35': 'R3',\n",
       " 'T36': 'R8',\n",
       " 'T37': 'R15',\n",
       " 'T38': 'R1',\n",
       " 'T39': 'R9',\n",
       " 'T40': 'R6',\n",
       " 'T41': 'R12',\n",
       " 'T42': 'R5',\n",
       " 'T43': 'R13',\n",
       " 'T44': 'R11',\n",
       " 'T45': 'R3',\n",
       " 'T46': 'R12',\n",
       " 'T47': 'R8',\n",
       " 'T48': 'R15',\n",
       " 'T49': 'R7',\n",
       " 'T50': 'R10',\n",
       " 'T51': 'R4',\n",
       " 'T52': 'R10',\n",
       " 'T53': 'R16',\n",
       " 'T54': 'R6',\n",
       " 'T55': 'R2',\n",
       " 'T56': 'R13',\n",
       " 'T57': 'R5',\n",
       " 'T58': 'R11',\n",
       " 'T59': 'R10',\n",
       " 'T60': 'R3',\n",
       " 'T61': 'R12',\n",
       " 'T62': 'R8',\n",
       " 'T63': 'R15',\n",
       " 'T64': 'R16',\n",
       " 'T65': 'R5',\n",
       " 'T66': 'R12',\n",
       " 'T67': 'R8',\n",
       " 'T68': 'R9',\n",
       " 'T69': 'R2',\n",
       " 'T70': 'R15',\n",
       " 'T71': 'R1',\n",
       " 'T72': 'R3',\n",
       " 'T73': 'R7',\n",
       " 'T74': 'R4',\n",
       " 'T75': 'R11',\n",
       " 'T76': 'R5',\n",
       " 'T77': 'R13',\n",
       " 'T78': 'R12',\n",
       " 'T79': 'R1',\n",
       " 'T80': 'R8',\n",
       " 'T81': 'R10',\n",
       " 'T82': 'R9',\n",
       " 'T83': 'R16',\n",
       " 'T84': 'R6',\n",
       " 'T85': 'R11',\n",
       " 'T86': 'R7',\n",
       " 'T87': 'R3',\n",
       " 'T88': 'R14',\n",
       " 'T89': 'R15',\n",
       " 'T90': 'R13',\n",
       " 'T91': 'R5',\n",
       " 'T92': 'R12',\n",
       " 'T93': 'R4',\n",
       " 'T94': 'R8',\n",
       " 'T95': 'R15',\n",
       " 'T96': 'R6',\n",
       " 'T97': 'R11',\n",
       " 'T98': 'R12',\n",
       " 'T99': 'R2',\n",
       " 'T100': 'R10',\n",
       " 'T101': 'R7',\n",
       " 'T102': 'R5',\n",
       " 'T103': 'R9',\n",
       " 'T104': 'R14',\n",
       " 'T105': 'R3',\n",
       " 'T106': 'R1',\n",
       " 'T107': 'R16',\n",
       " 'T108': 'R5',\n",
       " 'T109': 'R13',\n",
       " 'T110': 'R10',\n",
       " 'T111': 'R15',\n",
       " 'T112': 'R9',\n",
       " 'T113': 'R8',\n",
       " 'T114': 'R3',\n",
       " 'T115': 'R11',\n",
       " 'T116': 'R6',\n",
       " 'T117': 'R8',\n",
       " 'T118': 'R12',\n",
       " 'T119': 'R5',\n",
       " 'T120': 'R3',\n",
       " 'T121': 'R16',\n",
       " 'T122': 'R7',\n",
       " 'T123': 'R15',\n",
       " 'T124': 'R2',\n",
       " 'T125': 'R12',\n",
       " 'T126': 'R5',\n",
       " 'T127': 'R4',\n",
       " 'T128': 'R8',\n",
       " 'T129': 'R11',\n",
       " 'T130': 'R10',\n",
       " 'T131': 'R1',\n",
       " 'T132': 'R13',\n",
       " 'T133': 'R12',\n",
       " 'T134': 'R6',\n",
       " 'T135': 'R14',\n",
       " 'T136': 'R9',\n",
       " 'T137': 'R3',\n",
       " 'T138': 'R16',\n",
       " 'T139': 'R8',\n",
       " 'T140': 'R15',\n",
       " 'T141': 'R2',\n",
       " 'T142': 'R5',\n",
       " 'T143': 'R3',\n",
       " 'T144': 'R7',\n",
       " 'T145': 'R8',\n",
       " 'T146': 'R11',\n",
       " 'T147': 'R12',\n",
       " 'T148': 'R6',\n",
       " 'T149': 'R13',\n",
       " 'T150': 'R4',\n",
       " 'T151': 'R15',\n",
       " 'T152': 'R5',\n",
       " 'T153': 'R1',\n",
       " 'T154': 'R10',\n",
       " 'T155': 'R13',\n",
       " 'T156': 'R11',\n",
       " 'T157': 'R16',\n",
       " 'T158': 'R12',\n",
       " 'T159': 'R7',\n",
       " 'T160': 'R9',\n",
       " 'T161': 'R3',\n",
       " 'T162': 'R5',\n",
       " 'T163': 'R15',\n",
       " 'T164': 'R8',\n",
       " 'T165': 'R12',\n",
       " 'T166': 'R2',\n",
       " 'T167': 'R6',\n",
       " 'T168': 'R11',\n",
       " 'T169': 'R5',\n",
       " 'T170': 'R8',\n",
       " 'T171': 'R15',\n",
       " 'T172': 'R4',\n",
       " 'T173': 'R3',\n",
       " 'T174': 'R9',\n",
       " 'T175': 'R1',\n",
       " 'T176': 'R16',\n",
       " 'T177': 'R14',\n",
       " 'T178': 'R6',\n",
       " 'T179': 'R12',\n",
       " 'T180': 'R10',\n",
       " 'T181': 'R7',\n",
       " 'T182': 'R8',\n",
       " 'T183': 'R15',\n",
       " 'T184': 'R11',\n",
       " 'T185': 'R5',\n",
       " 'T186': 'R9',\n",
       " 'T187': 'R13',\n",
       " 'T188': 'R4',\n",
       " 'T189': 'R3',\n",
       " 'T190': 'R16',\n",
       " 'T191': 'R2',\n",
       " 'T192': 'R1',\n",
       " 'T193': 'R4',\n",
       " 'T194': 'R12',\n",
       " 'T195': 'R6',\n",
       " 'T196': 'R5',\n",
       " 'T197': 'R8',\n",
       " 'T198': 'R7',\n",
       " 'T199': 'R11',\n",
       " 'T200': 'R3',\n",
       " 'T201': 'R9',\n",
       " 'T202': 'R15',\n",
       " 'T203': 'R8',\n",
       " 'T204': 'R16',\n",
       " 'T205': 'R7',\n",
       " 'T206': 'R15',\n",
       " 'T207': 'R12',\n",
       " 'T208': 'R5',\n",
       " 'T209': 'R10',\n",
       " 'T210': 'R13',\n",
       " 'T211': 'R11',\n",
       " 'T212': 'R3',\n",
       " 'T213': 'R6',\n",
       " 'T214': 'R8',\n",
       " 'T215': 'R1',\n",
       " 'T216': 'R11',\n",
       " 'T217': 'R2',\n",
       " 'T218': 'R4',\n",
       " 'T219': 'R15',\n",
       " 'T220': 'R12',\n",
       " 'T221': 'R3',\n",
       " 'T222': 'R5',\n",
       " 'T223': 'R16',\n",
       " 'T224': 'R12',\n",
       " 'T225': 'R13',\n",
       " 'T226': 'R7',\n",
       " 'T227': 'R9',\n",
       " 'T228': 'R13',\n",
       " 'T229': 'R1',\n",
       " 'T230': 'R3',\n",
       " 'T231': 'R2',\n",
       " 'T232': 'R15',\n",
       " 'T233': 'R1',\n",
       " 'T234': 'R8',\n",
       " 'T235': 'R11',\n",
       " 'T236': 'R5',\n",
       " 'T237': 'R8',\n",
       " 'T238': 'R5',\n",
       " 'T239': 'R12',\n",
       " 'T240': 'R3',\n",
       " 'T241': 'R15',\n",
       " 'T242': 'R10',\n",
       " 'T243': 'R6',\n",
       " 'T244': 'R11',\n",
       " 'T245': 'R4',\n",
       " 'T246': 'R16',\n",
       " 'T247': 'R8',\n",
       " 'T248': 'R14',\n",
       " 'T249': 'R13',\n",
       " 'T250': 'R1'}"
      ]
     },
     "execution_count": 7,
     "metadata": {},
     "output_type": "execute_result"
    }
   ],
   "source": [
    "resource_allocation"
   ]
  },
  {
   "cell_type": "code",
   "execution_count": 8,
   "id": "523cd37a",
   "metadata": {},
   "outputs": [
    {
     "data": {
      "text/plain": [
       "{'R1': 51.47639484978541,\n",
       " 'R2': 49.638888888888914,\n",
       " 'R3': 54.74556213017753,\n",
       " 'R4': 54.19367588932805,\n",
       " 'R5': 54.193782383419695,\n",
       " 'R6': 52.64476885644768,\n",
       " 'R7': 49.94461538461538,\n",
       " 'R8': 55.2402088772846,\n",
       " 'R9': 48.89162561576354,\n",
       " 'R10': 50.5666666666667,\n",
       " 'R11': 54.744075829383895,\n",
       " 'R12': 54.73870573870575,\n",
       " 'R13': 48.3368421052632,\n",
       " 'R14': 41.17647058823535,\n",
       " 'R15': 55.25395152792414,\n",
       " 'R16': 54.78270042194093}"
      ]
     },
     "execution_count": 8,
     "metadata": {},
     "output_type": "execute_result"
    }
   ],
   "source": [
    "makespan_cal # TOTAL LOAD ON EACH RESOURCE."
   ]
  },
  {
   "cell_type": "code",
   "execution_count": 9,
   "id": "40779468",
   "metadata": {},
   "outputs": [
    {
     "data": {
      "text/plain": [
       "55.25395152792414"
      ]
     },
     "execution_count": 9,
     "metadata": {},
     "output_type": "execute_result"
    }
   ],
   "source": [
    "makespan = max(makespan_cal.values()) # MAKESPAN\n",
    "makespan"
   ]
  },
  {
   "cell_type": "code",
   "execution_count": 10,
   "id": "53efeb6d",
   "metadata": {},
   "outputs": [
    {
     "data": {
      "text/plain": [
       "93.94904264608111"
      ]
     },
     "execution_count": 10,
     "metadata": {},
     "output_type": "execute_result"
    }
   ],
   "source": [
    "average_resource_utilisation = sum(makespan_cal.values()) / (number_of_resource * makespan)\n",
    "average_resource_utilisation * 100"
   ]
  },
  {
   "cell_type": "markdown",
   "id": "fd074c55",
   "metadata": {},
   "source": [
    "# LOAD BALANCING"
   ]
  },
  {
   "cell_type": "code",
   "execution_count": 11,
   "id": "3a4a97b9",
   "metadata": {},
   "outputs": [],
   "source": [
    "list_of_resource = makespan_cal.values()\n",
    "max_load = max(makespan_cal.values()) # maximum load \n",
    "min_load = min(makespan_cal.values()) # minimum load"
   ]
  },
  {
   "cell_type": "code",
   "execution_count": 12,
   "id": "b8e63768",
   "metadata": {},
   "outputs": [],
   "source": [
    "for resource,load in makespan_cal.items():\n",
    "    if load == max_load:\n",
    "        max_resource = resource # resource having maximum load\n",
    "    if load == min_load:\n",
    "        min_resource = resource # resource having minimum load"
   ]
  },
  {
   "cell_type": "code",
   "execution_count": 13,
   "id": "7c083f15",
   "metadata": {},
   "outputs": [],
   "source": [
    "max_resource_task_list = []\n",
    "for task,resource in resource_allocation.items():\n",
    "    if resource == max_resource:\n",
    "        max_resource_task_list.append(task)"
   ]
  },
  {
   "cell_type": "code",
   "execution_count": 14,
   "id": "0df096c5",
   "metadata": {},
   "outputs": [
    {
     "data": {
      "text/plain": [
       "{'T2': 2.399367755532139,\n",
       " 'T11': 3.0706006322444677,\n",
       " 'T26': 2.671232876712329,\n",
       " 'T37': 2.713382507903056,\n",
       " 'T48': 2.755532139093783,\n",
       " 'T63': 2.1865121180189675,\n",
       " 'T70': 3.110642781875659,\n",
       " 'T89': 2.1211801896733404,\n",
       " 'T95': 2.541622760800843,\n",
       " 'T111': 3.1148577449947314,\n",
       " 'T123': 2.871443624868282,\n",
       " 'T140': 2.5753424657534247,\n",
       " 'T151': 2.5679662802950474,\n",
       " 'T163': 2.517386722866175,\n",
       " 'T171': 2.736564805057956,\n",
       " 'T183': 2.993677555321391,\n",
       " 'T202': 1.4088514225500526,\n",
       " 'T206': 2.873551106427819,\n",
       " 'T219': 2.3909378292939936,\n",
       " 'T232': 2.9483667017913593,\n",
       " 'T241': 2.684931506849315}"
      ]
     },
     "execution_count": 14,
     "metadata": {},
     "output_type": "execute_result"
    }
   ],
   "source": [
    "task_tracker = {}\n",
    "for resource,speed in resource_speed.items():\n",
    "    if resource == max_resource:\n",
    "        max_resource_speed = speed\n",
    "for task,size in task_size.items():\n",
    "    if task in max_resource_task_list:\n",
    "        task_tracker[task] = size/max_resource_speed\n",
    "task_tracker"
   ]
  },
  {
   "cell_type": "code",
   "execution_count": 15,
   "id": "0d0dad22",
   "metadata": {},
   "outputs": [
    {
     "data": {
      "text/plain": [
       "2.6311405489487676"
      ]
     },
     "execution_count": 15,
     "metadata": {},
     "output_type": "execute_result"
    }
   ],
   "source": [
    "average_load = sum(task_tracker.values())/len(task_tracker.values())\n",
    "average_load"
   ]
  },
  {
   "cell_type": "code",
   "execution_count": 16,
   "id": "e1b8ca18",
   "metadata": {},
   "outputs": [],
   "source": [
    "def find_task(val):\n",
    "    for keys,values in task_tracker:\n",
    "        if val == values:\n",
    "            return keys"
   ]
  },
  {
   "cell_type": "code",
   "execution_count": 17,
   "id": "bf9658f3",
   "metadata": {},
   "outputs": [],
   "source": [
    "list_of_max_ct = []\n",
    "for values in task_tracker.values():\n",
    "    if values<=average_load:\n",
    "        list_of_max_ct.append(values)\n",
    "list_of_max_ct.sort(reverse = True)"
   ]
  },
  {
   "cell_type": "code",
   "execution_count": 18,
   "id": "c3c8c2e8",
   "metadata": {},
   "outputs": [],
   "source": [
    "for values in task_tracker.values():\n",
    "    if values<=average_load:\n",
    "        list_of_max_ct.append(values)\n",
    "    list_of_max_ct.sort(reverse = True)\n",
    "    for i in range(len(list_of_max_ct)):\n",
    "        min_load = min_load+list_of_max_ct[i]\n",
    "        max_load = max_load-list_of_max_ct[i]\n",
    "        # print(min_load,max_load)\n",
    "        if min_load<=max_load:\n",
    "            for keys in makespan_cal.keys():\n",
    "                if keys == min_resource:\n",
    "                    makespan_cal[keys] = min_load\n",
    "                if keys == max_resource:\n",
    "                    makespan_cal[keys] = max_load\n",
    "            t = find_key(i)\n",
    "            for task,resource in resource_allocation.items():\n",
    "                if task == t:\n",
    "                    del resource_allocation[t]\n",
    "                    resource_allocation[task] = min_resource"
   ]
  },
  {
   "cell_type": "code",
   "execution_count": 19,
   "id": "e7a72319",
   "metadata": {},
   "outputs": [
    {
     "data": {
      "text/plain": [
       "{'R1': 51.47639484978541,\n",
       " 'R2': 49.638888888888914,\n",
       " 'R3': 54.74556213017753,\n",
       " 'R4': 54.19367588932805,\n",
       " 'R5': 54.193782383419695,\n",
       " 'R6': 52.64476885644768,\n",
       " 'R7': 49.94461538461538,\n",
       " 'R8': 55.2402088772846,\n",
       " 'R9': 48.89162561576354,\n",
       " 'R10': 50.5666666666667,\n",
       " 'R11': 54.744075829383895,\n",
       " 'R12': 54.73870573870575,\n",
       " 'R13': 48.3368421052632,\n",
       " 'R14': 46.319779334283815,\n",
       " 'R15': 50.11064278187567,\n",
       " 'R16': 54.78270042194093}"
      ]
     },
     "execution_count": 19,
     "metadata": {},
     "output_type": "execute_result"
    }
   ],
   "source": [
    "makespan_cal"
   ]
  },
  {
   "cell_type": "code",
   "execution_count": 20,
   "id": "d679d34c",
   "metadata": {},
   "outputs": [
    {
     "data": {
      "text/plain": [
       "55.2402088772846"
      ]
     },
     "execution_count": 20,
     "metadata": {},
     "output_type": "execute_result"
    }
   ],
   "source": [
    "makespan1= max(makespan_cal.values()) # MAKESPAN\n",
    "makespan1"
   ]
  },
  {
   "cell_type": "code",
   "execution_count": 21,
   "id": "db040a16",
   "metadata": {},
   "outputs": [
    {
     "data": {
      "text/plain": [
       "93.97241527441189"
      ]
     },
     "execution_count": 21,
     "metadata": {},
     "output_type": "execute_result"
    }
   ],
   "source": [
    "average_resource_utilisation1 = sum(makespan_cal.values()) / (number_of_resource * makespan1)\n",
    "average_resource_utilisation1 * 100"
   ]
  },
  {
   "cell_type": "code",
   "execution_count": 22,
   "id": "3d7f77ef",
   "metadata": {},
   "outputs": [
    {
     "name": "stdout",
     "output_type": "stream",
     "text": [
      "0.013742650639535725\n"
     ]
    }
   ],
   "source": [
    "print(makespan - makespan1)"
   ]
  },
  {
   "cell_type": "code",
   "execution_count": 23,
   "id": "36af6eb6",
   "metadata": {},
   "outputs": [
    {
     "name": "stdout",
     "output_type": "stream",
     "text": [
      "0.02337262833077558\n"
     ]
    }
   ],
   "source": [
    "print((average_resource_utilisation1 - average_resource_utilisation)*100)"
   ]
  },
  {
   "cell_type": "code",
   "execution_count": null,
   "id": "ea1a4768",
   "metadata": {},
   "outputs": [],
   "source": []
  }
 ],
 "metadata": {
  "kernelspec": {
   "display_name": "Python 3 (ipykernel)",
   "language": "python",
   "name": "python3"
  },
  "language_info": {
   "codemirror_mode": {
    "name": "ipython",
    "version": 3
   },
   "file_extension": ".py",
   "mimetype": "text/x-python",
   "name": "python",
   "nbconvert_exporter": "python",
   "pygments_lexer": "ipython3",
   "version": "3.9.13"
  }
 },
 "nbformat": 4,
 "nbformat_minor": 5
}
