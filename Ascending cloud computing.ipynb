{
 "cells": [
  {
   "cell_type": "markdown",
   "id": "2f0c1f2a",
   "metadata": {},
   "source": [
    "# Task in ascending order"
   ]
  },
  {
   "cell_type": "code",
   "execution_count": 1,
   "id": "1b410ee1",
   "metadata": {},
   "outputs": [],
   "source": [
    "import random\n",
    "import pandas as pd\n",
    "import numpy as np\n",
    "import operator\n",
    "file = {'hh250_16.xlsx':[250,16,10,1000,100,3000],'hh250_32.xlsx':[250,32,10,1000,100,3000],'hh250_64.xlsx':[250,64,10,1000,100,3000],'hh250_128.xlsx':[250,128,10,1000,100,3000],'hh500_16.xlsx':[500,16,10,1000,100,3000],'hh500_32.xlsx':[500,32,10,1000,100,3000],'hh500_64.xlsx':[500,64,10,1000,100,3000],'hh500_128.xlsx':[500,128,10,1000,100,3000],'hh750_16.xlsx':[750,16,10,1000,100,3000],'hh750_32.xlsx':[750,32,10,1000,100,3000],'hh750_64.xlsx':[750,64,10,1000,100,3000],'hh750_128.xlsx':[750,128,10,1000,100,3000],'hh1000_16.xlsx':[1000,16,10,1000,100,3000],'hh1000_32.xlsx':[1000,32,10,1000,100,3000],'hh1000_64.xlsx':[1000,64,10,1000,100,3000],'hh1000_128.xlsx':[1000,128,10,1000,100,3000],\n",
    "        'hl250_16.xlsx':[250,16,1,10,100,3000],'hl250_32.xlsx':[250,32,1,10,100,3000],'hl250_64.xlsx':[250,64,1,10,100,3000],'hl250_128.xlsx':[250,128,1,10,100,3000],'hl500_16.xlsx':[500,16,1,10,100,3000],'hl500_32.xlsx':[500,32,1,10,100,3000],'hl500_64.xlsx':[500,64,1,10,100,3000],'hl500_128.xlsx':[500,128,1,10,100,3000],'hl750_16.xlsx':[750,16,1,10,100,3000],'hl750_32.xlsx':[750,32,1,10,100,3000],'hl750_64.xlsx':[750,64,1,10,100,3000],'hl750_128.xlsx':[750,128,1,10,100,3000],'hl1000_16.xlsx':[1000,16,1,10,100,3000],'hl1000_32.xlsx':[1000,32,1,10,100,3000],'hl1000_64.xlsx':[1000,64,1,10,100,3000],'hl1000_128.xlsx':[1000,128,1,10,100,3000],\n",
    "       'lh250_16.xlsx':[250,16,10,1000,1,100],'lh250_32.xlsx':[250,32,10,1000,1,100],'lh250_64.xlsx':[250,64,10,1000,1,100],'lh250_128.xlsx':[250,128,10,1000,1,100],'lh500_16.xlsx':[500,16,10,1000,1,100],'lh500_32.xlsx':[500,32,10,1000,1,100],'lh500_64.xlsx':[500,64,10,1000,1,100],'lh500_128.xlsx':[500,128,10,1000,1,100],'lh750_16.xlsx':[750,16,10,1000,1,100],'lh750_32.xlsx':[750,32,10,1000,1,100],'lh750_64.xlsx':[750,64,10,1000,1,100],'lh750_128.xlsx':[750,128,10,1000,1,100],'lh1000_16.xlsx':[1000,16,10,1000,1,100],'lh1000_32.xlsx':[1000,32,10,1000,1,100],'lh1000_64.xlsx':[1000,64,10,1000,1,100],'lh1000_128.xlsx':[1000,128,10,1000,1,100],\n",
    "       'll250_16.xlsx':[250,16,1,10,1,100],'ll250_32.xlsx':[250,32,1,10,1,100],'ll250_64.xlsx':[250,64,1,10,1,100],'ll250_128.xlsx':[250,128,1,10,1,100],'ll500_16.xlsx':[500,16,1,10,1,100],'ll500_32.xlsx':[500,32,1,10,1,100],'ll500_64.xlsx':[500,64,1,10,1,100],'ll500_128.xlsx':[500,128,1,10,1,100],'ll750_16.xlsx':[750,16,1,10,1,100],'ll750_32.xlsx':[750,32,1,10,1,100],'ll750_64.xlsx':[750,64,1,10,1,100],'ll750_128.xlsx':[750,128,1,10,1,100],'ll1000_16.xlsx':[1000,16,1,10,1,100],'ll1000_32.xlsx':[1000,32,1,10,1,100],'ll1000_64.xlsx':[1000,64,1,10,1,100],'ll1000_128.xlsx':[1000,128,1,10,1,100]}"
   ]
  },
  {
   "cell_type": "code",
   "execution_count": 2,
   "id": "6c750dfa",
   "metadata": {},
   "outputs": [],
   "source": [
    "def find_key(min_ct):\n",
    "    for key,value in mct.items():\n",
    "        if min_ct == value:\n",
    "            return key"
   ]
  },
  {
   "cell_type": "code",
   "execution_count": 3,
   "id": "75f2031c",
   "metadata": {},
   "outputs": [],
   "source": [
    "for yu,pa in file.items():\n",
    "    makeSpan = []\n",
    "    averageResourceUtilisation = []\n",
    "    for i in range(10):\n",
    "        number_of_task = pa[0]\n",
    "        number_of_resource = pa[1]\n",
    "\n",
    "        # Taking Resource speed from user\n",
    "        resource_speed = {} # A dict for storing speed of respective resource like R1,R2,..,Rn\n",
    "        for i in range(1,number_of_resource+1):\n",
    "            a = 'R' + str(i)\n",
    "            resource_speed[a] = random.randint(pa[2],pa[3])\n",
    "\n",
    "        # Taking Task size from user\n",
    "        task_size = {} # A dict for storing size of respective task like T1,T2,..,Tn\n",
    "        for i in range(1,number_of_task+1):\n",
    "            a = 'T' + str(i)\n",
    "            task_size[a] = random.randint(pa[4],pa[5])\n",
    "\n",
    "        sorted_task_size = dict(sorted(task_size.items(), key=operator.itemgetter(1)))\n",
    "\n",
    "        mct = {} # It is a temperarory dict which is used to find which total resource speed.\n",
    "        makespan_cal = {} # for calculating makespan in the end or total load on all resource.\n",
    "        compute_matrix = {}\n",
    "        resource_allocation = {} # task resource mapping..\n",
    "        for resource in resource_speed.keys():\n",
    "            mct[resource] = 0\n",
    "            makespan_cal[resource] = 0\n",
    "\n",
    "        # Resource allocation begins...\n",
    "\n",
    "        for task,size in sorted_task_size.items(): #looping for each task_size\n",
    "            b=[]\n",
    "            for resource,speed in resource_speed.items(): #for every task Tn we are looping through every Resource Rn.\n",
    "                compute_matrix[resource] = size/speed  # this is for storing Compute timing for each task.\n",
    "            # We have come out of Resource loop....\n",
    "            ct = list(compute_matrix.values())\n",
    "            i=0\n",
    "            for resource in mct.keys(): #If bugs come change here.(we can use dict here)\n",
    "                mct[resource] = mct[resource] + ct[i]\n",
    "                i=i+1\n",
    "            # mct loop ends here...\n",
    "            b = list(mct.values())\n",
    "            min_ct = min(b) #storing minimum from mct.\n",
    "            # print(min)_ct\n",
    "            temp = find_key(min_ct) # can have [] this here.\n",
    "            for resource in makespan_cal.keys():\n",
    "                if resource == temp:\n",
    "                    makespan_cal[resource] = min_ct\n",
    "            resource_allocation[task] = temp\n",
    "\n",
    "            # reversing mct from here..\n",
    "            i=0\n",
    "            for resource in mct.keys(): #If bugs come change here.(we can use dict here)\n",
    "                if resource != temp:\n",
    "                    mct[resource] = mct[resource] - ct[i]\n",
    "                i=i+1\n",
    "\n",
    "        makespan = max(makespan_cal.values()) # MAKESPAN\n",
    "        makeSpan.append(makespan)\n",
    "        average_resource_utilisation = sum(makespan_cal.values()) / (number_of_resource * makespan)\n",
    "        averageResourceUtilisation.append(average_resource_utilisation * 100)\n",
    "    data = {'MakesPan':makeSpan,\n",
    "       'AverageResourceUtilisation':averageResourceUtilisation}\n",
    "    df = pd.DataFrame(data)\n",
    "    filename = yu\n",
    "    df.to_excel(filename)"
   ]
  }
 ],
 "metadata": {
  "kernelspec": {
   "display_name": "Python 3 (ipykernel)",
   "language": "python",
   "name": "python3"
  },
  "language_info": {
   "codemirror_mode": {
    "name": "ipython",
    "version": 3
   },
   "file_extension": ".py",
   "mimetype": "text/x-python",
   "name": "python",
   "nbconvert_exporter": "python",
   "pygments_lexer": "ipython3",
   "version": "3.9.12"
  }
 },
 "nbformat": 4,
 "nbformat_minor": 5
}
