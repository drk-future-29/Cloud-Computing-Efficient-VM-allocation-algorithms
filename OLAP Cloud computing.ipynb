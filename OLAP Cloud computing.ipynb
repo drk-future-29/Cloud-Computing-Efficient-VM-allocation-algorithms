{
 "cells": [
  {
   "cell_type": "markdown",
   "id": "1b15467c",
   "metadata": {},
   "source": [
    "# Resource Allocation"
   ]
  },
  {
   "cell_type": "markdown",
   "id": "07ef4ae6",
   "metadata": {},
   "source": [
    "olap\n",
    "asscending\n",
    "descending"
   ]
  },
  {
   "cell_type": "code",
   "execution_count": 1,
   "id": "1b410ee1",
   "metadata": {},
   "outputs": [
    {
     "name": "stdout",
     "output_type": "stream",
     "text": [
      "Enter Number of resources you want to allocate.. 3\n",
      "Enter Number of task you want to provide.. 5\n"
     ]
    }
   ],
   "source": [
    "# Taking number of task and resource as an input from user\n",
    "number_of_resource = int(input(\"Enter Number of resources you want to allocate.. \"))\n",
    "number_of_task = int(input(\"Enter Number of task you want to provide.. \"))"
   ]
  },
  {
   "cell_type": "code",
   "execution_count": 2,
   "id": "75f2031c",
   "metadata": {},
   "outputs": [
    {
     "name": "stdout",
     "output_type": "stream",
     "text": [
      "Enter speed of R1 10\n",
      "Enter speed of R2 12\n",
      "Enter speed of R3 14\n"
     ]
    }
   ],
   "source": [
    "# Taking Resource speed from user\n",
    "resource_speed = {} # A dict for storing speed of respective resource like R1,R2,..,Rn\n",
    "for i in range(1,number_of_resource+1):\n",
    "    a = 'R' + str(i)\n",
    "    resource_speed[a] = int(input(\"Enter speed of R{} \".format(i)))"
   ]
  },
  {
   "cell_type": "code",
   "execution_count": 3,
   "id": "f3fb0a34",
   "metadata": {},
   "outputs": [
    {
     "name": "stdout",
     "output_type": "stream",
     "text": [
      "Enter speed of T1 100\n",
      "Enter speed of T2 90\n",
      "Enter speed of T3 150\n",
      "Enter speed of T4 200\n",
      "Enter speed of T5 120\n"
     ]
    }
   ],
   "source": [
    "# Taking Task size from user\n",
    "task_size = {} # A dict for storing size of respective task like T1,T2,..,Tn\n",
    "for i in range(1,number_of_task+1):\n",
    "    a = 'T' + str(i)\n",
    "    task_size[a] = int(input(\"Enter speed of T{} \".format(i)))"
   ]
  },
  {
   "cell_type": "code",
   "execution_count": 7,
   "id": "b022e17c",
   "metadata": {},
   "outputs": [
    {
     "data": {
      "text/plain": [
       "{'R1': 0, 'R2': 0, 'R3': 0}"
      ]
     },
     "execution_count": 7,
     "metadata": {},
     "output_type": "execute_result"
    }
   ],
   "source": [
    "makespan_cal = {} # for calculating makespan in the end or total load on all resource.\n",
    "compute_matrix = {}\n",
    "temp_mc = {}\n",
    "resource_allocation = {} # task resource mapping..\n",
    "for resource in resource_speed.keys():\n",
    "    makespan_cal[resource] = 0\n",
    "    temp_mc = {}\n",
    "makespan_cal"
   ]
  },
  {
   "cell_type": "code",
   "execution_count": 5,
   "id": "6c750dfa",
   "metadata": {},
   "outputs": [],
   "source": [
    "def find_key(min_ct):\n",
    "    for key,value in compute_matrix.items():\n",
    "        if min_ct == value:\n",
    "            return key"
   ]
  },
  {
   "cell_type": "code",
   "execution_count": 18,
   "id": "a1c7f404",
   "metadata": {},
   "outputs": [
    {
     "name": "stdout",
     "output_type": "stream",
     "text": [
      "{'R1': 10.0, 'R2': 8.333333333333334, 'R3': 7.142857142857143}\n",
      "[10.0, 8.333333333333334, 7.142857142857143]\n",
      "7.142857142857143\n",
      "R3\n",
      "{'R1': 9.0, 'R2': 7.5, 'R3': 6.428571428571429}\n",
      "[9.0, 7.5, 6.428571428571429]\n",
      "6.428571428571429\n",
      "R3\n",
      "{'R1': 15.0, 'R2': 12.5, 'R3': 10.714285714285714}\n",
      "[15.0, 12.5, 10.714285714285714]\n",
      "10.714285714285714\n",
      "R3\n",
      "{'R1': 20.0, 'R2': 16.666666666666668, 'R3': 14.285714285714286}\n",
      "[20.0, 16.666666666666668, 14.285714285714286]\n",
      "14.285714285714286\n",
      "R3\n",
      "{'R1': 12.0, 'R2': 10.0, 'R3': 8.571428571428571}\n",
      "[12.0, 10.0, 8.571428571428571]\n",
      "8.571428571428571\n",
      "R3\n"
     ]
    }
   ],
   "source": [
    "# Resource allocation begins...\n",
    "\n",
    "for task,size in task_size.items(): #looping for each task_size\n",
    "    b=[] # getting values from mct dict\n",
    "    for resource,speed in resource_speed.items(): #for every task Tn we are looping through every Resource Rn.\n",
    "        compute_matrix[resource] = size/speed  # this is for storing Compute timing for each task.\n",
    "    print(compute_matrix)\n",
    "    # We have come out of Resource loop....\n",
    "    ct = list(compute_matrix.values())\n",
    "    i = 0\n",
    "    for keys in temp_mc.keys():\n",
    "        temp_mc[keys] = temp_mc[keys] + ct[i]\n",
    "        i = i + 1\n",
    "    b = list(temp_mc.values())\n",
    "    min_ct = min(b)\n",
    "    print(min_ct)\n",
    "    temp = find_key(min_ct)\n",
    "    print(temp)\n",
    "    for resource,t in makespan_cal.items():\n",
    "        if resource == temp:\n",
    "            makespan_cal[resource] = min_ct + t\n",
    "    resource_allocation[task] = temp"
   ]
  },
  {
   "cell_type": "code",
   "execution_count": 19,
   "id": "acf63640",
   "metadata": {},
   "outputs": [
    {
     "data": {
      "text/plain": [
       "{'T1': 'R3', 'T2': 'R3', 'T3': 'R3', 'T4': 'R3', 'T5': 'R3'}"
      ]
     },
     "execution_count": 19,
     "metadata": {},
     "output_type": "execute_result"
    }
   ],
   "source": [
    "resource_allocation"
   ]
  },
  {
   "cell_type": "code",
   "execution_count": 20,
   "id": "523cd37a",
   "metadata": {},
   "outputs": [
    {
     "data": {
      "text/plain": [
       "{'R1': 0, 'R2': 0, 'R3': 47.14285714285714}"
      ]
     },
     "execution_count": 20,
     "metadata": {},
     "output_type": "execute_result"
    }
   ],
   "source": [
    "makespan_cal # TOTAL LOAD ON EACH RESOURCE."
   ]
  },
  {
   "cell_type": "code",
   "execution_count": 21,
   "id": "40779468",
   "metadata": {},
   "outputs": [
    {
     "data": {
      "text/plain": [
       "47.14285714285714"
      ]
     },
     "execution_count": 21,
     "metadata": {},
     "output_type": "execute_result"
    }
   ],
   "source": [
    "makespan = max(makespan_cal.values()) # MAKESPAN\n",
    "makespan"
   ]
  },
  {
   "cell_type": "code",
   "execution_count": 22,
   "id": "53efeb6d",
   "metadata": {},
   "outputs": [
    {
     "data": {
      "text/plain": [
       "33.33333333333333"
      ]
     },
     "execution_count": 22,
     "metadata": {},
     "output_type": "execute_result"
    }
   ],
   "source": [
    "average_resource_utilisation = sum(makespan_cal.values()) / (number_of_resource * makespan)\n",
    "average_resource_utilisation * 100"
   ]
  },
  {
   "cell_type": "code",
   "execution_count": null,
   "id": "04304c13",
   "metadata": {},
   "outputs": [],
   "source": []
  }
 ],
 "metadata": {
  "kernelspec": {
   "display_name": "Python 3 (ipykernel)",
   "language": "python",
   "name": "python3"
  },
  "language_info": {
   "codemirror_mode": {
    "name": "ipython",
    "version": 3
   },
   "file_extension": ".py",
   "mimetype": "text/x-python",
   "name": "python",
   "nbconvert_exporter": "python",
   "pygments_lexer": "ipython3",
   "version": "3.9.12"
  }
 },
 "nbformat": 4,
 "nbformat_minor": 5
}
